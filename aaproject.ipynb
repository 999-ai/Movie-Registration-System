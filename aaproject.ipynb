{
 "cells": [
  {
   "cell_type": "code",
   "execution_count": 9,
   "id": "5eb44137-3b4d-440d-b86b-89608fcff248",
   "metadata": {},
   "outputs": [
    {
     "name": "stdout",
     "output_type": "stream",
     "text": [
      "1.Add word\n",
      "2.Testing words\n",
      "3.Making sentence\n",
      "4.Exit\n"
     ]
    },
    {
     "name": "stdin",
     "output_type": "stream",
     "text": [
      "make a decision 1\n",
      "say a word to me word\n",
      "tell me the meaning of your word you said kelime\n"
     ]
    },
    {
     "name": "stdout",
     "output_type": "stream",
     "text": [
      "The word and the kelime are added\n"
     ]
    },
    {
     "name": "stdin",
     "output_type": "stream",
     "text": [
      "make a decision 1\n",
      "say a word to me love\n",
      "tell me the meaning of your word you said ask\n"
     ]
    },
    {
     "name": "stdout",
     "output_type": "stream",
     "text": [
      "The love and the ask are added\n"
     ]
    },
    {
     "name": "stdin",
     "output_type": "stream",
     "text": [
      "make a decision 2\n"
     ]
    },
    {
     "name": "stdout",
     "output_type": "stream",
     "text": [
      "welcome to dictionary game\n"
     ]
    },
    {
     "name": "stdin",
     "output_type": "stream",
     "text": [
      "word kelime\n"
     ]
    },
    {
     "name": "stdout",
     "output_type": "stream",
     "text": [
      "  score of 1 is gained\n"
     ]
    },
    {
     "name": "stdin",
     "output_type": "stream",
     "text": [
      "love ask\n"
     ]
    },
    {
     "name": "stdout",
     "output_type": "stream",
     "text": [
      "  score of 2 is gained\n"
     ]
    },
    {
     "name": "stdin",
     "output_type": "stream",
     "text": [
      "make a decision 3\n"
     ]
    },
    {
     "name": "stdout",
     "output_type": "stream",
     "text": [
      "competion of making sentence\n",
      "word list: ['word', 'love']\n",
      "make a sentence  with above words\n",
      "word, love\n"
     ]
    },
    {
     "name": "stdin",
     "output_type": "stream",
     "text": [
      "Enter your sentence you made love is a word\n"
     ]
    },
    {
     "name": "stdout",
     "output_type": "stream",
     "text": [
      "the sentence you made is love is a word\n"
     ]
    },
    {
     "name": "stdin",
     "output_type": "stream",
     "text": [
      "make a decision 4\n"
     ]
    }
   ],
   "source": [
    "words_dictionary={}\n",
    "print(\"1.Add word\")\n",
    "print(\"2.Testing words\")\n",
    "print(\"3.Making sentence\")\n",
    "print(\"4.Exit\")\n",
    "\n",
    "while True:\n",
    "    option=int(input(\"make a decision\"))\n",
    "    if option==1:\n",
    "      word=input(\"say a word to me\")\n",
    "      meaning=input(\"tell me the meaning of your word you said\").strip()\n",
    "      words_dictionary[word]=meaning\n",
    "      print(f\"The {word} and the {meaning} are added\")\n",
    "\n",
    "    elif option==2:\n",
    "      if not words_dictionary:\n",
    "          print(\"you have to determine your word firstly\")\n",
    "          continue\n",
    "      print(\"welcome to dictionary game\")\n",
    "      score=0\n",
    "      for word,meaning in words_dictionary.items():\n",
    "          question=input(f\"{word}\").strip()\n",
    "\n",
    "          if question.lower()==meaning.lower():\n",
    "             score+=1\n",
    "             print(f\"  score of {score} is gained\")\n",
    "          else:\n",
    "             print(\"Test is completed\")\n",
    "    elif option==3:\n",
    "       if not words_dictionary:\n",
    "          print(\"you have to determine your word firstly\")\n",
    "          continue\n",
    "\n",
    "       print(\"competion of making sentence\")\n",
    "       word_list=list(words_dictionary.keys())\n",
    "       print(\"word list:\",word_list)\n",
    "       print(\"make a sentence  with above words\")\n",
    "       print(\", \".join(word_list))   \n",
    "       sentence=input(\"Enter your sentence you made\")\n",
    "       print(f\"the sentence you made is {sentence}\")\n",
    "    elif option==4:\n",
    "     break\n",
    "          \n",
    "          \n",
    "          \n",
    " \n",
    "\n",
    "             "
   ]
  },
  {
   "cell_type": "code",
   "execution_count": null,
   "id": "51e395ba-0cd1-403c-a0a0-d2df0492904d",
   "metadata": {},
   "outputs": [],
   "source": []
  }
 ],
 "metadata": {
  "kernelspec": {
   "display_name": "Python 3 (ipykernel)",
   "language": "python",
   "name": "python3"
  },
  "language_info": {
   "codemirror_mode": {
    "name": "ipython",
    "version": 3
   },
   "file_extension": ".py",
   "mimetype": "text/x-python",
   "name": "python",
   "nbconvert_exporter": "python",
   "pygments_lexer": "ipython3",
   "version": "3.12.4"
  }
 },
 "nbformat": 4,
 "nbformat_minor": 5
}
